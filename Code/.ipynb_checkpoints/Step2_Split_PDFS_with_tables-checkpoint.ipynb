{
 "cells": [
  {
   "cell_type": "code",
   "execution_count": 6,
   "metadata": {},
   "outputs": [],
   "source": [
    "#######This code helps to extract tables from the entire pdf into individiual tables###########\n",
    "#######Input to this file are the log files  generated from the previous step###########\n",
    "#######Output will be tables extracted from the pdf##############"
   ]
  },
  {
   "cell_type": "code",
   "execution_count": 2,
   "metadata": {},
   "outputs": [],
   "source": [
    "####### Setting up the libraries required ###################\n",
    "from PyPDF2 import PdfFileWriter, PdfFileReader\n",
    "from os import listdir\n",
    "from os.path import isfile, join"
   ]
  },
  {
   "cell_type": "code",
   "execution_count": 3,
   "metadata": {},
   "outputs": [],
   "source": [
    "####### Setup the in initial variables required #########\n",
    "dir_path = \"../Data/Input_Step2/\"\n",
    "log_dir =\"log_files/\"\n",
    "out_dir_path = \"../Data/Output_Step2/\" \n",
    "end_table =\"\\'Zusammenstellung.\\'\"\n",
    "start_table1 =\"Abstimmungen\\'\"\n",
    "start_table2 =\"Abstimmung\\'\""
   ]
  },
  {
   "cell_type": "code",
   "execution_count": 4,
   "metadata": {},
   "outputs": [],
   "source": [
    "#get all log files from the directory\n",
    "log_files = [f for f in listdir(dir_path+log_dir) if isfile(join(dir_path+log_dir, f))]"
   ]
  },
  {
   "cell_type": "code",
   "execution_count": 5,
   "metadata": {},
   "outputs": [
    {
     "name": "stdout",
     "output_type": "stream",
     "text": [
      "['test28.log', 'test24.log', 'test30.log']\n"
     ]
    }
   ],
   "source": [
    "print(log_files)"
   ]
  },
  {
   "cell_type": "code",
   "execution_count": 6,
   "metadata": {},
   "outputs": [
    {
     "name": "stdout",
     "output_type": "stream",
     "text": [
      "starting log file: test28.log\n",
      "Missed :  590  in file: ../Roll_Call_PDFs/Large_ones/1928:30,1.pdf\n",
      "Missed :  591  in file: ../Roll_Call_PDFs/Large_ones/1928:30,1.pdf\n",
      "Missed :  698  in file: ../Roll_Call_PDFs/Large_ones/1928:30,1.pdf\n",
      "Missed end:  1001  in file: ../Roll_Call_PDFs/Large_ones/1928:30,1.pdf\n",
      "No of pages are higher than expected  -1   ../Roll_Call_PDFs/Large_ones/1928:30,1.pdf\n",
      "Missed :  60  in file: ../Roll_Call_PDFs/Large_ones/1928:30,2.pdf\n",
      "Missed :  889  in file: ../Roll_Call_PDFs/Large_ones/1928:30,2.pdf\n",
      "Missed :  208  in file: ../Roll_Call_PDFs/Large_ones/1928:30,3.pdf\n",
      "Missed :  708  in file: ../Roll_Call_PDFs/Large_ones/1928:30,3.pdf\n",
      "Missed :  192  in file: ../Roll_Call_PDFs/Large_ones/1928:30,5.pdf\n",
      "Total cnt:  57   test28.log\n",
      "starting log file: test24.log\n",
      "Missed :  840  in file: ../Data/Input_Step1/1924:28,3.pdf\n",
      "Missed :  1003  in file: ../Data/Input_Step1/1924:28,3.pdf\n",
      "Missed :  872  in file: ../Data/Input_Step1/1924:28,5.pdf\n",
      "Missed :  320  in file: ../Data/Input_Step1/1924:28,7.pdf\n",
      "Missed :  1489  in file: ../Data/Input_Step1/1924:28,11.pdf\n",
      "Missed :  1250  in file: ../Data/Input_Step1/1924:28,12.pdf\n",
      "Total cnt:  92   test24.log\n",
      "starting log file: test30.log\n",
      "Missed end:  807  in file: ../Roll_Call_PDFs/Large_ones/1930:32,2.pdf\n",
      "No of pages are higher than expected  -1   ../Roll_Call_PDFs/Large_ones/1930:32,2.pdf\n",
      "Missed :  966  in file: ../Roll_Call_PDFs/Large_ones/1930:32,2.pdf\n",
      "Total cnt:  22   test30.log\n"
     ]
    }
   ],
   "source": [
    "prev_pdf_file = None\n",
    "pdf_instance = None\n",
    "\n",
    "def read_pdf_file(pdf_file):\n",
    "    global prev_pdf_file,pdf_instance\n",
    "    if prev_pdf_file is None or prev_pdf_file!=pdf_file:\n",
    "        pdf_instance = PdfFileReader(open(pdf_file, \"rb\"))\n",
    "        prev_pdf_file = pdf_file\n",
    "    return pdf_instance\n",
    "        \n",
    "def split_extract_pdf(pdf_file,start_page,end_page):\n",
    "    #print(\"Extract :\",pdf_file,\" \",start_page,\" \",end_page)\n",
    "    #read the input file if not read before\n",
    "    inputpdf = read_pdf_file(pdf_file)\n",
    "    # write the required pages to the output\n",
    "    output = PdfFileWriter()\n",
    "    #get the original filename\n",
    "    split_filename = pdf_file.split(\"/\")\n",
    "    #add all the pages between the start and end page\n",
    "    for i in range(start_page,end_page+1):\n",
    "        output.addPage(inputpdf.getPage(i))\n",
    "        with open(out_dir_path+\"{}_{}_{}.pdf\".format(split_filename[len(split_filename)-1],start_page,end_page), \"wb\") as outputStream:\n",
    "            output.write(outputStream)\n",
    "            \n",
    "#split_extract_pdf(dir_path+\"1924:28,8.pdf\",797-1,800-1)        \n",
    "        \n",
    "def parse_logfiles(dir_path):\n",
    "    prev_start = -1\n",
    "    for inp_file in log_files:\n",
    "        print(\"starting log file:\",inp_file)\n",
    "        cnt=0\n",
    "        prev_start = -1\n",
    "        with open(dir_path+log_dir+inp_file) as file_in:\n",
    "            for line in file_in:\n",
    "                words = line.split(\" \")\n",
    "                last_word = words[len(words)-1].replace(\"\\n\",'')\n",
    "                #check if its the start of the table\n",
    "                if last_word == start_table1 or last_word == start_table2:\n",
    "                    #print(words[7],' ',words[4])\n",
    "                    if prev_start!=-1:\n",
    "                        print(\"Missed : \",prev_start,\" in file:\",words[4])\n",
    "                    prev_start=int(words[7])\n",
    "                #check if its the end of the table\n",
    "                if last_word==end_table:\n",
    "                    #split_extract_pdf(,int(words[7]),)\n",
    "                    #print(words[7],\" \",words[4])\n",
    "                    if prev_start==-1:\n",
    "                        print(\"Missed end: \",words[7],\" in file:\",words[4])\n",
    "                    if abs(prev_start-int(words[7]))>15:\n",
    "                        print(\"No of pages are higher than expected \",prev_start,\" \",words[4],\" page:\",int(words[7]))\n",
    "                        continue\n",
    "                    split_filename = words[4].split(\"/\")\n",
    "                    cnt =cnt+1\n",
    "                    split_extract_pdf(dir_path+split_filename[len(split_filename)-1],prev_start-1,int(words[7])-1)\n",
    "                    prev_start=-1\n",
    "        print(\"Total cnt: \",cnt,\" \",inp_file)\n",
    "parse_logfiles(dir_path)"
   ]
  },
  {
   "cell_type": "code",
   "execution_count": 17,
   "metadata": {},
   "outputs": [
    {
     "data": {
      "text/plain": [
       "'../Roll_Call_PDFs/Large_ones/1928:30,6.pdf\\n'"
      ]
     },
     "execution_count": 17,
     "metadata": {},
     "output_type": "execute_result"
    }
   ],
   "source": []
  },
  {
   "cell_type": "code",
   "execution_count": null,
   "metadata": {},
   "outputs": [],
   "source": []
  }
 ],
 "metadata": {
  "kernelspec": {
   "display_name": "Python 3",
   "language": "python",
   "name": "python3"
  },
  "language_info": {
   "codemirror_mode": {
    "name": "ipython",
    "version": 3
   },
   "file_extension": ".py",
   "mimetype": "text/x-python",
   "name": "python",
   "nbconvert_exporter": "python",
   "pygments_lexer": "ipython3",
   "version": "3.7.2"
  }
 },
 "nbformat": 4,
 "nbformat_minor": 2
}
