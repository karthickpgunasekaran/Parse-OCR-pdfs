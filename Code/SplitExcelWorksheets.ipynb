{
 "cells": [
  {
   "cell_type": "code",
   "execution_count": 79,
   "metadata": {},
   "outputs": [],
   "source": [
    "import pandas as pd\n"
   ]
  },
  {
   "cell_type": "code",
   "execution_count": 80,
   "metadata": {},
   "outputs": [],
   "source": [
    "xls = pd.ExcelFile('../Data/Input_Step3/1930_32/1924.28,1.pdf_241_244.xlsx')\n",
    "\n",
    "for i in range(0,len(xls.sheet_names)):\n",
    "    sheet1 = xls.parse(i)\n",
    "    file_name = xls.sheet_names[i]\n",
    "    if xls.sheet_names[i][len(xls.sheet_names[i])-4:]==\".pdf\":\n",
    "            file_name = xls.sheet_names[i][0:len(xls.sheet_names[i])-4]\n",
    "    sheet1.to_csv(\"../Data/Input_Step3/1930_32/Csv_files/\"+file_name+\".csv\", sep='\\t',index =False)"
   ]
  },
  {
   "cell_type": "code",
   "execution_count": 33,
   "metadata": {},
   "outputs": [],
   "source": [
    "\n",
    "#sheet = meta.parse()\n",
    "#sheet.to_csv(\"../Data/Input_Step3/1930_32/Csv_files/\"+\"1930_32_Metadata\"+\".csv\", sep='\\t',index =False)"
   ]
  },
  {
   "cell_type": "code",
   "execution_count": 65,
   "metadata": {},
   "outputs": [],
   "source": [
    "metadata = \"../Data/Input_Step3/1930_32/1930_32_Metadata.xlsx\"\n",
    "meta = pd.ExcelFile(metadata)\n",
    "names = meta.parse()['Name'].values[:]\n",
    "cnt_votes = meta.parse()['Votes'].values[:]\n",
    "\n",
    "name_to_votecnt ={}\n",
    "for i in range(0,len(names)):\n",
    "    name = names[i]\n",
    "    if names[i][-4:] ==\".pdf\":\n",
    "        #print(names[i])\n",
    "        name = names[i][:-4]\n",
    "    ch = \"\"\n",
    "    for par in name:\n",
    "        if par==\"/\":\n",
    "            ch = ch+\" \"\n",
    "        else:\n",
    "            ch = ch+par\n",
    "        #print(ch)\n",
    "    #break\n",
    "    name_to_votecnt[ch] = cnt_votes[i]"
   ]
  },
  {
   "cell_type": "code",
   "execution_count": 66,
   "metadata": {},
   "outputs": [
    {
     "data": {
      "text/plain": [
       "{'1930 32,1.pdf_210_221': 6,\n",
       " '1930 32,1.pdf_222_225': 1,\n",
       " '1930 32,1.pdf_448_454': 4,\n",
       " '1930 32,1.pdf_493_504': 6,\n",
       " '1930 32,1.pdf_595_598': 1,\n",
       " '1930 32,1.pdf_641_644': 1,\n",
       " '1930 32,1.pdf_659_663': 2,\n",
       " '1930 32,1.pdf_775_786': 9,\n",
       " '1930 32,1.pdf_864_867': 1,\n",
       " '1930 32,1.pdf_951_954': 1,\n",
       " '1930 32,1.pdf_985_991': 3,\n",
       " '1930 32,2.pdf_1007_1013': 3,\n",
       " '1930 32,2.pdf_287_293': 5,\n",
       " '1930 32,2.pdf_406_412': 5,\n",
       " '1930 32,2.pdf_562_565': 1,\n",
       " '1930 32,2.pdf_628_634': 4,\n",
       " '1930 32,2.pdf_852_858': 4,\n",
       " '1930 32,2.pdf_966_977': 8,\n",
       " '1930 32,3.pdf_169_180': 9,\n",
       " '1930 32,3.pdf_392_403': 10,\n",
       " '1930 32,3.pdf_627_633': 4,\n",
       " '1930:32,1.pdf_868_879': 12}"
      ]
     },
     "execution_count": 66,
     "metadata": {},
     "output_type": "execute_result"
    }
   ],
   "source": [
    "name_to_votecnt"
   ]
  },
  {
   "cell_type": "code",
   "execution_count": 59,
   "metadata": {},
   "outputs": [
    {
     "data": {
      "text/plain": [
       "{'1930/32,1.pdf_210_221': 6,\n",
       " '1930/32,1.pdf_222_225': 1,\n",
       " '1930/32,1.pdf_448_454': 4,\n",
       " '1930/32,1.pdf_493_504': 6,\n",
       " '1930/32,1.pdf_595_598': 1,\n",
       " '1930/32,1.pdf_641_644': 1,\n",
       " '1930/32,1.pdf_659_663': 2,\n",
       " '1930/32,1.pdf_775_786': 9,\n",
       " '1930/32,1.pdf_864_867': 1,\n",
       " '1930/32,1.pdf_951_954': 1,\n",
       " '1930/32,1.pdf_985_991': 3,\n",
       " '1930/32,2.pdf_1007_1013': 3,\n",
       " '1930/32,2.pdf_287_293': 5,\n",
       " '1930/32,2.pdf_406_412': 5,\n",
       " '1930/32,2.pdf_562_565': 1,\n",
       " '1930/32,2.pdf_628_634': 4,\n",
       " '1930/32,2.pdf_852_858': 4,\n",
       " '1930/32,2.pdf_966_977': 8,\n",
       " '1930/32,3.pdf_169_180': 9,\n",
       " '1930/32,3.pdf_392_403': 10,\n",
       " '1930/32,3.pdf_627_633': 4,\n",
       " '1930:32,1.pdf_868_879': 12}"
      ]
     },
     "execution_count": 59,
     "metadata": {},
     "output_type": "execute_result"
    }
   ],
   "source": []
  },
  {
   "cell_type": "code",
   "execution_count": null,
   "metadata": {},
   "outputs": [],
   "source": []
  }
 ],
 "metadata": {
  "kernelspec": {
   "display_name": "Python 3",
   "language": "python",
   "name": "python3"
  },
  "language_info": {
   "codemirror_mode": {
    "name": "ipython",
    "version": 3
   },
   "file_extension": ".py",
   "mimetype": "text/x-python",
   "name": "python",
   "nbconvert_exporter": "python",
   "pygments_lexer": "ipython3",
   "version": "3.7.6"
  }
 },
 "nbformat": 4,
 "nbformat_minor": 2
}
