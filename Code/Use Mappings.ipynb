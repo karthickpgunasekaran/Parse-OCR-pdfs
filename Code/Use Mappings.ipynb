{
 "cells": [
  {
   "cell_type": "code",
   "execution_count": 60,
   "metadata": {},
   "outputs": [],
   "source": [
    "import pandas as pd \n",
    "import math\n",
    "import re\n",
    "from fuzzywuzzy import fuzz"
   ]
  },
  {
   "cell_type": "code",
   "execution_count": 61,
   "metadata": {},
   "outputs": [],
   "source": [
    "file_path =\"../Data/processed/1924_28_removed.xlsx\""
   ]
  },
  {
   "cell_type": "code",
   "execution_count": 62,
   "metadata": {},
   "outputs": [],
   "source": [
    "party_mapping = r\"../Data/party_mapping.xlsx\"\n",
    "vote_mapping = r\"../Data/vote_mapping.xlsx\""
   ]
  },
  {
   "cell_type": "code",
   "execution_count": 63,
   "metadata": {},
   "outputs": [],
   "source": [
    "class ReadCsvFiles:\n",
    "    def __init__(self,file_path,file_type=\"csv\"):\n",
    "        if file_type==\"csv\":\n",
    "            self.data_df = pd.read_csv(file_path, delimiter='\\t')\n",
    "            self.data_list = self.data_df.values.tolist()\n",
    "        elif file_type==\"xlsx\":\n",
    "            self.data_df = pd.read_excel(file_path,header=None)\n",
    "            self.data_list = self.data_df.values.tolist()\n",
    "        elif file_type==\"pdf\":\n",
    "            self.data_df = read_pdf(file_path, pages=\"3\",multiple_tables=True,area=(400,40,100,100))\n",
    "    \n",
    "    def getPdfData(self):\n",
    "        return self.data_df\n",
    "    \n",
    "    def getCsvData(self):\n",
    "        return self.data_df,self.data_list"
   ]
  },
  {
   "cell_type": "code",
   "execution_count": 64,
   "metadata": {},
   "outputs": [],
   "source": [
    "data,party_map_list = ReadCsvFiles(party_mapping,\"xlsx\").getCsvData()\n",
    "data,vote_map_list = ReadCsvFiles(vote_mapping,\"xlsx\").getCsvData()\n",
    "data,file_list = ReadCsvFiles(file_path,\"xlsx\").getCsvData()\n"
   ]
  },
  {
   "cell_type": "code",
   "execution_count": 65,
   "metadata": {},
   "outputs": [],
   "source": [
    "party = {}\n",
    "vote = {}\n",
    "for party_name in party_map_list:\n",
    "    #print(party_name[0],\" \",party_name[1])\n",
    "    party[party_name[0]] = party_name[1]\n",
    "\n",
    "for vote_name in vote_map_list:\n",
    "    #print(party_name[0],\" \",party_name[1])\n",
    "    vote[vote_name[0]] = vote_name[1]\n",
    "\n",
    "def checkVote(name):\n",
    "    for ori_vote in vote:\n",
    "        if fuzz.ratio(name.strip().lower(),ori_vote.strip().lower())>95:\n",
    "            return vote[ori_vote]\n",
    "    return \"\"\n",
    "\n",
    "def checkParty(name):\n",
    "    for ori_party in party:\n",
    "        if fuzz.ratio(name.strip().lower(),ori_party.strip().lower())>95:\n",
    "            return party[ori_party]\n",
    "    return \"\""
   ]
  },
  {
   "cell_type": "code",
   "execution_count": 66,
   "metadata": {
    "scrolled": true
   },
   "outputs": [
    {
     "name": "stdout",
     "output_type": "stream",
     "text": [
      "I: 300\n",
      "I: 600\n",
      "I: 900\n",
      "I: 1200\n",
      "I: 1500\n",
      "I: 1800\n",
      "I: 2100\n",
      "I: 2400\n",
      "I: 300\n",
      "I: 600\n",
      "I: 900\n",
      "I: 1200\n",
      "I: 1500\n",
      "I: 1800\n",
      "I: 2100\n",
      "I: 2400\n"
     ]
    }
   ],
   "source": [
    "# replace party\n",
    "for i in range(1,len(file_list)):\n",
    "    if i%300==0:\n",
    "        print(\"I:\",i)\n",
    "    if i>=2466:\n",
    "        break\n",
    "\n",
    "    for j in range(0,1):\n",
    "        if isinstance(file_list[i][j], float) and math.isnan(file_list[i][j]):\n",
    "            continue\n",
    "        change = checkParty(file_list[i][j])\n",
    "        if change!=\"\":\n",
    "            file_list[i][j] = change\n",
    "            #print(\"Change:\",change)\n",
    "# replace votes\n",
    "for i in range(1,len(file_list)):\n",
    "    if i%300==0:\n",
    "        print(\"I:\",i)\n",
    "    if i>2466:\n",
    "        break\n",
    "    for j in range(2,len(file_list[0])):\n",
    "        change = checkVote(file_list[i][j])\n",
    "        if change!=\"\":\n",
    "            file_list[i][j] = change\n",
    "            #print(\"Change:\",change)\n",
    "\n",
    "\n",
    "        "
   ]
  },
  {
   "cell_type": "code",
   "execution_count": 67,
   "metadata": {},
   "outputs": [],
   "source": [
    "df= pd.DataFrame(file_list)\n",
    "df.to_excel(\"../Data/processed/1924_28_mapped.xlsx\",index=False) "
   ]
  },
  {
   "cell_type": "code",
   "execution_count": null,
   "metadata": {},
   "outputs": [],
   "source": []
  }
 ],
 "metadata": {
  "kernelspec": {
   "display_name": "Python 3",
   "language": "python",
   "name": "python3"
  },
  "language_info": {
   "codemirror_mode": {
    "name": "ipython",
    "version": 3
   },
   "file_extension": ".py",
   "mimetype": "text/x-python",
   "name": "python",
   "nbconvert_exporter": "python",
   "pygments_lexer": "ipython3",
   "version": "3.7.6"
  }
 },
 "nbformat": 4,
 "nbformat_minor": 4
}
